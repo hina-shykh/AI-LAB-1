{
 "cells": [
  {
   "cell_type": "code",
   "execution_count": 13,
   "id": "4bd30c03-5eb1-42c4-a470-522ff488cb1d",
   "metadata": {},
   "outputs": [
    {
     "name": "stdout",
     "output_type": "stream",
     "text": [
      "Recommended movies for user 2:\n",
      "Movie: The Godfather, Predicted Rating: 4.66\n"
     ]
    }
   ],
   "source": [
    "# Importing necessary libraries\n",
    "import pandas as pd\n",
    "import numpy as np\n",
    "from sklearn.metrics.pairwise import cosine_similarity\n",
    "\n",
    "# Sample data with movie titles (movieId, title)\n",
    "movies_data = {\n",
    "    'movieId': [1, 2, 3, 4, 5, 6],\n",
    "    'title': ['The Shawshank Redemption', 'The Godfather', 'The Dark Knight', 'Pulp Fiction', 'Forrest Gump', 'Inception']\n",
    "}\n",
    "movies_df = pd.DataFrame(movies_data)\n",
    "\n",
    "# User ratings data (userId, movieId, rating)\n",
    "data = {\n",
    "    'userId': [1, 1, 1, 2, 2, 3, 3],\n",
    "    'movieId': [1, 2, 3, 1, 3, 2, 3],\n",
    "    'rating': [5, 3, 4, 4, 5, 5, 5]\n",
    "}\n",
    "df = pd.DataFrame(data)\n",
    "\n",
    "# Step 2: Create a user-item matrix (pivot table)\n",
    "user_movie_matrix = df.pivot_table(index='userId', columns='movieId', values='rating', fill_value=0)\n",
    "\n",
    "# Step 3: Compute the cosine similarity between items (movies)\n",
    "cosine_sim = cosine_similarity(user_movie_matrix.T)  # Similarity between movies\n",
    "\n",
    "# Convert the cosine similarity matrix into a DataFrame\n",
    "cosine_sim_df = pd.DataFrame(cosine_sim, index=user_movie_matrix.columns, columns=user_movie_matrix.columns)\n",
    "\n",
    "# Step 4: Build a function to recommend movies for a given user\n",
    "def recommend_movies(user_id, top_n=3):\n",
    "    # Get the movies the user has rated\n",
    "    user_ratings = user_movie_matrix.loc[user_id]\n",
    "    \n",
    "    # Identify movies that the user hasn't rated yet\n",
    "    unrated_movies = user_ratings[user_ratings == 0].index.tolist()\n",
    "    \n",
    "    # Initialize an empty list for predicted ratings\n",
    "    predicted_ratings = {}\n",
    "    \n",
    "    # For each unrated movie, compute the predicted rating based on the user's past ratings and movie similarities\n",
    "    for movie in unrated_movies:\n",
    "        similar_movies = cosine_sim_df[movie].sort_values(ascending=False).index.tolist()[1:]  # Exclude the movie itself\n",
    "        \n",
    "        # Calculate a weighted average of ratings of similar movies\n",
    "        weighted_sum = 0\n",
    "        sim_sum = 0\n",
    "        \n",
    "        for similar_movie in similar_movies:\n",
    "            if user_movie_matrix.loc[user_id, similar_movie] > 0:  # The user has rated this similar movie\n",
    "                weighted_sum += user_movie_matrix.loc[user_id, similar_movie] * cosine_sim_df[movie][similar_movie]\n",
    "                sim_sum += cosine_sim_df[movie][similar_movie]\n",
    "        \n",
    "        if sim_sum > 0:\n",
    "            predicted_rating = weighted_sum / sim_sum\n",
    "        else:\n",
    "            predicted_rating = 0  # If no similar movies have been rated by the user\n",
    "        \n",
    "        predicted_ratings[movie] = predicted_rating\n",
    "    \n",
    "    # Sort the predicted ratings in descending order and get the top N recommendations\n",
    "    recommended_movies = sorted(predicted_ratings.items(), key=lambda x: x[1], reverse=True)[:top_n]\n",
    "    \n",
    "    # Fetch the movie titles from the movies_df\n",
    "    recommended_movies_with_titles = [(movies_df[movies_df['movieId'] == movie_id]['title'].values[0], predicted_rating) for movie_id, predicted_rating in recommended_movies]\n",
    "    \n",
    "    # Return the list of recommended movies (movie name and predicted rating)\n",
    "    return recommended_movies_with_titles\n",
    "\n",
    "# Step 5: Example usage\n",
    "user_id = 2  # Let's use user_id 2\n",
    "recommended_movies = recommend_movies(user_id, top_n=3)\n",
    "\n",
    "print(f\"Recommended movies for user {user_id}:\")\n",
    "for movie_title, predicted_rating in recommended_movies:\n",
    "    print(f\"Movie: {movie_title}, Predicted Rating: {predicted_rating:.2f}\")\n"
   ]
  }
 ],
 "metadata": {
  "kernelspec": {
   "display_name": "Python 3 (ipykernel)",
   "language": "python",
   "name": "python3"
  },
  "language_info": {
   "codemirror_mode": {
    "name": "ipython",
    "version": 3
   },
   "file_extension": ".py",
   "mimetype": "text/x-python",
   "name": "python",
   "nbconvert_exporter": "python",
   "pygments_lexer": "ipython3",
   "version": "3.11.7"
  }
 },
 "nbformat": 4,
 "nbformat_minor": 5
}
