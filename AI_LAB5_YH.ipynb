{
  "nbformat": 4,
  "nbformat_minor": 0,
  "metadata": {
    "colab": {
      "provenance": []
    },
    "kernelspec": {
      "name": "python3",
      "display_name": "Python 3"
    },
    "language_info": {
      "name": "python"
    }
  },
  "cells": [
    {
      "cell_type": "markdown",
      "source": [],
      "metadata": {
        "id": "bK1KywPCp3of"
      }
    },
    {
      "cell_type": "code",
      "source": [
        "# YAGOME HINA LAB 5"
      ],
      "metadata": {
        "id": "Zp5Snte4pqS1"
      },
      "execution_count": null,
      "outputs": []
    },
    {
      "cell_type": "code",
      "source": [
        "# Import necessary libraries\n",
        "import pandas as pd\n",
        "from sklearn.tree import DecisionTreeClassifier\n",
        "\n",
        "# Define the dataset\n",
        "data = {\n",
        "    \"Gender\": [\"male\", \"male\", \"male\", \"male\", \"female\", \"female\", \"female\", \"female\"],\n",
        "    \"Height\": [6.00, 5.92, 5.58, 5.92, 5.00, 5.50, 5.42, 5.75],\n",
        "    \"Weight\": [180, 190, 170, 165, 100, 150, 130, 150],\n",
        "    \"Foot_Size\": [12, 11, 12, 10, 6, 8, 7, 9]\n",
        "}\n",
        "\n",
        "# Convert to DataFrame\n",
        "df = pd.DataFrame(data)\n",
        "\n",
        "# Map 'Gender' to numeric values (male: 0, female: 1)\n",
        "df[\"Gender\"] = df[\"Gender\"].map({\"male\": 0, \"female\": 1})\n",
        "\n",
        "# Split the dataset into features (X) and target (y)\n",
        "X = df[[\"Height\", \"Weight\", \"Foot_Size\"]]\n",
        "y = df[\"Gender\"]\n",
        "\n",
        "# Train a Decision Tree Classifier\n",
        "clf = DecisionTreeClassifier()\n",
        "clf.fit(X, y)\n",
        "\n",
        "# Function to take new input from the user and predict gender\n",
        "def predict_gender():\n",
        "    print(\"Enter the following details for prediction:\")\n",
        "    height = float(input(\"Height (in feet): \"))\n",
        "    weight = int(input(\"Weight (in lbs): \"))\n",
        "    foot_size = int(input(\"Foot Size (in inches): \"))\n",
        "\n",
        "    # Create a DataFrame for the new data\n",
        "    new_data = pd.DataFrame([[height, weight, foot_size]], columns=[\"Height\", \"Weight\", \"Foot_Size\"])\n",
        "\n",
        "    # Predict and map result back to 'male' or 'female'\n",
        "    prediction = clf.predict(new_data)[0]\n",
        "    gender = \"male\" if prediction == 0 else \"female\"\n",
        "\n",
        "    print(f\"The predicted gender is: {gender}\")\n",
        "\n",
        "# Call the prediction function\n",
        "predict_gender()\n"
      ],
      "metadata": {
        "colab": {
          "base_uri": "https://localhost:8080/"
        },
        "id": "ai2fFXfpqB1L",
        "outputId": "d75150fc-7384-44a3-b7f6-85fcbd3e199d"
      },
      "execution_count": 3,
      "outputs": [
        {
          "output_type": "stream",
          "name": "stdout",
          "text": [
            "Enter the following details for prediction:\n",
            "Height (in feet): 34\n",
            "Weight (in lbs): 42\n",
            "Foot Size (in inches): 13\n",
            "The predicted gender is: male\n"
          ]
        }
      ]
    },
    {
      "cell_type": "code",
      "source": [
        " #AI TASK 2\n",
        " # Import necessary libraries\n",
        "import pandas as pd\n",
        "from sklearn.tree import DecisionTreeClassifier\n",
        "\n",
        "# Define the initial dataset\n",
        "data = {\n",
        "    \"Gender\": [\"male\", \"male\", \"male\", \"male\", \"female\", \"female\", \"female\", \"female\"],\n",
        "    \"Height\": [6.00, 5.92, 5.58, 5.92, 5.00, 5.50, 5.42, 5.75],\n",
        "    \"Weight\": [180, 190, 170, 165, 100, 150, 130, 150],\n",
        "    \"Foot_Size\": [12, 11, 12, 10, 6, 8, 7, 9]\n",
        "}\n",
        "\n",
        "# Convert the dataset to a pandas DataFrame\n",
        "df = pd.DataFrame(data)\n",
        "\n",
        "# Map 'Gender' to numeric values (male: 0, female: 1)\n",
        "df[\"Gender\"] = df[\"Gender\"].map({\"male\": 0, \"female\": 1})\n",
        "\n",
        "# Define a function to train the Decision Tree model\n",
        "def train_decision_tree(dataframe):\n",
        "    X = dataframe[[\"Height\", \"Weight\", \"Foot_Size\"]]\n",
        "    y = dataframe[\"Gender\"]\n",
        "    clf = DecisionTreeClassifier()\n",
        "    clf.fit(X, y)\n",
        "    return clf\n",
        "\n",
        "# Train the initial model\n",
        "clf = train_decision_tree(df)\n",
        "\n",
        "# Function to take new input, predict gender, and update the dataset\n",
        "def predict_and_update():\n",
        "    global df, clf\n",
        "    print(\"Enter the following details for prediction:\")\n",
        "    height = float(input(\"Height (in feet): \"))\n",
        "    weight = int(input(\"Weight (in lbs): \"))\n",
        "    foot_size = int(input(\"Foot Size (in inches): \"))\n",
        "\n",
        "    # Create a DataFrame for the new data\n",
        "    new_data = pd.DataFrame([[height, weight, foot_size]], columns=[\"Height\", \"Weight\", \"Foot_Size\"])\n",
        "\n",
        "    # Predict the gender for the new entry\n",
        "    prediction = clf.predict(new_data)[0]\n",
        "    gender = \"male\" if prediction == 0 else \"female\"\n",
        "    print(f\"The predicted gender is: {gender}\")\n",
        "\n",
        "    # Add the new entry to the dataset\n",
        "    new_data[\"Gender\"] = prediction\n",
        "    df = pd.concat([df, new_data], ignore_index=True)\n",
        "\n",
        "    # Retrain the model with the updated dataset\n",
        "    clf = train_decision_tree(df)\n",
        "    print(\"The dataset has been updated and the model has been retrained.\")\n",
        "    print(df)\n",
        "\n",
        "# Call the prediction and update function in a loop\n",
        "while True:\n",
        "    predict_and_update()\n",
        "    continue_prompt = input(\"Do you want to add another entry? (yes/no): \").strip().lower()\n",
        "    if continue_prompt != \"yes\":\n",
        "        print(\"Exiting...\")\n",
        "        break\n"
      ],
      "metadata": {
        "colab": {
          "base_uri": "https://localhost:8080/"
        },
        "id": "T4tb8U0ysNZq",
        "outputId": "0a17d818-63cf-44e2-bf72-c616b19aa5ef"
      },
      "execution_count": 4,
      "outputs": [
        {
          "output_type": "stream",
          "name": "stdout",
          "text": [
            "Enter the following details for prediction:\n",
            "Height (in feet): 7.2\n",
            "Weight (in lbs): 59\n",
            "Foot Size (in inches): 44\n",
            "The predicted gender is: female\n",
            "The dataset has been updated and the model has been retrained.\n",
            "   Gender  Height  Weight  Foot_Size\n",
            "0       0    6.00     180         12\n",
            "1       0    5.92     190         11\n",
            "2       0    5.58     170         12\n",
            "3       0    5.92     165         10\n",
            "4       1    5.00     100          6\n",
            "5       1    5.50     150          8\n",
            "6       1    5.42     130          7\n",
            "7       1    5.75     150          9\n",
            "8       1    7.20      59         44\n",
            "Do you want to add another entry? (yes/no): no\n",
            "Exiting...\n"
          ]
        }
      ]
    },
    {
      "cell_type": "code",
      "source": [
        "# AI TASK 3\n",
        "# Import necessary libraries\n",
        "import numpy as np\n",
        "from sklearn.tree import DecisionTreeClassifier\n",
        "\n",
        "# Define the dataset (Gender: male=0, female=1)\n",
        "data = np.array([\n",
        "    [0, 6.00, 180, 12],  # Male\n",
        "    [0, 5.92, 190, 11],  # Male\n",
        "    [0, 5.58, 170, 12],  # Male\n",
        "    [0, 5.92, 165, 10],  # Male\n",
        "    [1, 5.00, 100, 6],   # Female\n",
        "    [1, 5.50, 150, 8],   # Female\n",
        "    [1, 5.42, 130, 7],   # Female\n",
        "    [1, 5.75, 150, 9]    # Female\n",
        "])\n",
        "\n",
        "# Split the dataset into features (X) and target (y)\n",
        "X = data[:, 1:]  # Features: Height, Weight, Foot_Size\n",
        "y = data[:, 0]   # Target: Gender\n",
        "\n",
        "# Train a Decision Tree Classifier\n",
        "clf = DecisionTreeClassifier()\n",
        "clf.fit(X, y)\n",
        "\n",
        "# Function to take new input, predict gender, and update the dataset\n",
        "def predict_and_update():\n",
        "    global data, clf\n",
        "    print(\"Enter the following details for prediction:\")\n",
        "    height = float(input(\"Height (in feet): \"))\n",
        "    weight = int(input(\"Weight (in lbs): \"))\n",
        "    foot_size = int(input(\"Foot Size (in inches): \"))\n",
        "\n",
        "    # Create the new data point\n",
        "    new_data = np.array([[height, weight, foot_size]])\n",
        "\n",
        "    # Predict gender for the new entry\n",
        "    prediction = clf.predict(new_data)[0]\n",
        "    gender = \"male\" if prediction == 0 else \"female\"\n",
        "    print(f\"The predicted gender is: {gender}\")\n",
        "\n",
        "    # Add the new entry to the dataset\n",
        "    new_entry = np.array([[prediction, height, weight, foot_size]])\n",
        "    data = np.vstack((data, new_entry))\n",
        "\n",
        "    # Retrain the model with the updated dataset\n",
        "    X = data[:, 1:]\n",
        "    y = data[:, 0]\n",
        "    clf.fit(X, y)\n",
        "    print(\"The dataset has been updated and the model has been retrained.\")\n",
        "    print(\"Current dataset:\")\n",
        "    print(data)\n",
        "\n",
        "# Call the prediction and update function in a loop\n",
        "while True:\n",
        "    predict_and_update()\n",
        "    continue_prompt = input(\"Do you want to add another entry? (yes/no): \").strip().lower()\n",
        "    if continue_prompt != \"yes\":\n",
        "        print(\"Exiting...\")\n",
        "        break\n"
      ],
      "metadata": {
        "colab": {
          "base_uri": "https://localhost:8080/"
        },
        "id": "PamV3-5dvKSm",
        "outputId": "58da39f3-d82b-4799-da90-515cb37885ab"
      },
      "execution_count": 5,
      "outputs": [
        {
          "output_type": "stream",
          "name": "stdout",
          "text": [
            "Enter the following details for prediction:\n",
            "Height (in feet): 6.5\n",
            "Weight (in lbs): 84\n",
            "Foot Size (in inches): 36\n",
            "The predicted gender is: female\n",
            "The dataset has been updated and the model has been retrained.\n",
            "Current dataset:\n",
            "[[  0.     6.   180.    12.  ]\n",
            " [  0.     5.92 190.    11.  ]\n",
            " [  0.     5.58 170.    12.  ]\n",
            " [  0.     5.92 165.    10.  ]\n",
            " [  1.     5.   100.     6.  ]\n",
            " [  1.     5.5  150.     8.  ]\n",
            " [  1.     5.42 130.     7.  ]\n",
            " [  1.     5.75 150.     9.  ]\n",
            " [  1.     6.5   84.    36.  ]]\n",
            "Do you want to add another entry? (yes/no): no\n",
            "Exiting...\n"
          ]
        }
      ]
    }
  ]
}