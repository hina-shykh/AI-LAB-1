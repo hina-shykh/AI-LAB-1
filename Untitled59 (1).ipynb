{
 "cells": [
  {
   "cell_type": "markdown",
   "id": "e8fc278b-48b5-4d52-b3f8-4154860337fe",
   "metadata": {},
   "source": [
    "#lab3 Yagome Hina"
   ]
  },
  {
   "cell_type": "code",
   "execution_count": null,
   "id": "c8e4ee95-f7ca-4b36-97f6-007e195a828c",
   "metadata": {},
   "outputs": [],
   "source": [
    "Weather    Temperature    Play\n",
    "Sunny      Hot            No\n",
    "Sunny      Hot            No\n",
    "Overcast   Hot            Yes\n",
    "Rainy      Mild           Yes\n",
    "Rainy      Cool           Yes\n",
    "Rainy      Cool           No\n",
    "Overcast   Cool           Yes\n",
    "Sunny      Mild           No\n",
    "Sunny      Cool           Yes\n",
    "Rainy      Mild           Yes\n",
    "Sunny      Mild           Yes\n",
    "Overcast   Mild           Yes\n",
    "Overcast   Hot            Yes\n"
   ]
  },
  {
   "cell_type": "code",
   "execution_count": 2,
   "id": "a0be406a-2bfe-45c4-a99a-8f3461a95fd9",
   "metadata": {},
   "outputs": [
    {
     "name": "stdout",
     "output_type": "stream",
     "text": [
      "Prediction for Weather = Overcast and Temperature = Mild: Yes\n"
     ]
    },
    {
     "name": "stderr",
     "output_type": "stream",
     "text": [
      "C:\\Users\\SED\\anaconda3\\Lib\\site-packages\\sklearn\\base.py:439: UserWarning: X does not have valid feature names, but KNeighborsClassifier was fitted with feature names\n",
      "  warnings.warn(\n"
     ]
    }
   ],
   "source": [
    "# TASK NO.1\n",
    "import pandas as pd\n",
    "from sklearn.model_selection import train_test_split\n",
    "from sklearn.neighbors import KNeighborsClassifier\n",
    "from sklearn.preprocessing import LabelEncoder\n",
    "\n",
    "# Define the dataset\n",
    "data = {\n",
    "    'Weather': ['Sunny', 'Sunny', 'Overcast', 'Rainy', 'Rainy', 'Rainy',\n",
    "                'Overcast', 'Sunny', 'Sunny', 'Rainy', 'Sunny', 'Overcast',\n",
    "                'Overcast', 'Rainy'],\n",
    "    'Temperature': ['Hot', 'Hot', 'Hot', 'Mild', 'Cool', 'Cool', \n",
    "                    'Cool', 'Mild', 'Cool', 'Mild', 'Mild', 'Mild',\n",
    "                    'Hot', 'Mild'],\n",
    "    'Play': ['No', 'No', 'Yes', 'Yes', 'Yes', 'No', 'Yes', 'No', \n",
    "             'Yes', 'Yes', 'Yes', 'Yes', 'Yes', 'No']\n",
    "}\n",
    "\n",
    "# Create DataFrame\n",
    "df = pd.DataFrame(data)\n",
    "\n",
    "# Encode categorical features\n",
    "le_weather = LabelEncoder()\n",
    "le_temperature = LabelEncoder()\n",
    "le_play = LabelEncoder()\n",
    "\n",
    "df['Weather'] = le_weather.fit_transform(df['Weather'])\n",
    "df['Temperature'] = le_temperature.fit_transform(df['Temperature'])\n",
    "df['Play'] = le_play.fit_transform(df['Play'])\n",
    "\n",
    "# Features and target variable\n",
    "X = df[['Weather', 'Temperature']]\n",
    "y = df['Play']\n",
    "\n",
    "# Split the dataset (though we won't use train/test in this specific prediction)\n",
    "X_train, X_test, y_train, y_test = train_test_split(X, y, test_size=0.2, random_state=42)\n",
    "\n",
    "# Create and train the KNN model\n",
    "k = 3  # Number of neighbors\n",
    "knn = KNeighborsClassifier(n_neighbors=k)\n",
    "knn.fit(X_train, y_train)\n",
    "\n",
    "# Predict for the given instance: Weather = Overcast (1), Temperature = Mild (1)\n",
    "instance = [[1, 1]]  # Overcast and Mild\n",
    "prediction = knn.predict(instance)\n",
    "\n",
    "# Output the prediction\n",
    "play_status = le_play.inverse_transform(prediction)\n",
    "print(f\"Prediction for Weather = Overcast and Temperature = Mild: {play_status[0]}\")\n"
   ]
  },
  {
   "cell_type": "code",
   "execution_count": null,
   "id": "9d9ebcdf-1c0d-4452-bf38-fefe57b28467",
   "metadata": {},
   "outputs": [],
   "source": [
    "#LAB 3 TASK 2 "
   ]
  },
  {
   "cell_type": "code",
   "execution_count": null,
   "id": "c7ec62ac-4fbe-4a4f-8e70-5ad05c2984c7",
   "metadata": {},
   "outputs": [],
   "source": [
    "X1= Acid durability (sec)   X2=Strength (kg/m2)     Y=Classification\n",
    "      7                          7                         bad\n",
    "      7                          4                        bad \n",
    "      3                          4                       good  \n",
    "      1                          4                       Good "
   ]
  },
  {
   "cell_type": "code",
   "execution_count": null,
   "id": "d5b9b4cd-1162-4ef0-b9d4-eaf0bc1281a5",
   "metadata": {},
   "outputs": [],
   "source": [
    "In the Euclidean plane, let point p have Cartesian coordinates  (p1,p2) and let point q(q1,q2).Then the distance between p and q  \n",
    "d(p,q)={\\sqrt {(p_{1}-q_{1})^{2}+(p_{2}-q_{2})^{2}}}"
   ]
  },
  {
   "cell_type": "code",
   "execution_count": 7,
   "id": "2612c2a6-9cd1-4536-827b-81a733f5e879",
   "metadata": {},
   "outputs": [
    {
     "name": "stdout",
     "output_type": "stream",
     "text": [
      "The predicted classification for the new tissue paper (X1=3, X2=7) is: good\n"
     ]
    },
    {
     "name": "stderr",
     "output_type": "stream",
     "text": [
      "C:\\Users\\SED\\anaconda3\\Lib\\site-packages\\sklearn\\base.py:439: UserWarning: X does not have valid feature names, but KNeighborsClassifier was fitted with feature names\n",
      "  warnings.warn(\n"
     ]
    }
   ],
   "source": [
    "# LAB 3 Task 2.1\n",
    "import numpy as np\n",
    "import pandas as pd\n",
    "from sklearn.neighbors import KNeighborsClassifier\n",
    "\n",
    "# Create the training dataset\n",
    "data = {\n",
    "    'Acid Durability (X1)': [7, 7, 3, 1],\n",
    "    'Strength (X2)': [7, 4, 4, 4],\n",
    "    'Classification': ['bad', 'bad', 'good', 'good']\n",
    "}\n",
    "\n",
    "# Convert to DataFrame\n",
    "df = pd.DataFrame(data)\n",
    "\n",
    "# Features and target variable\n",
    "X = df[['Acid Durability (X1)', 'Strength (X2)']]\n",
    "y = df['Classification']\n",
    "\n",
    "# Create and train the KNN model\n",
    "k = 3  # Number of neighbors\n",
    "knn = KNeighborsClassifier(n_neighbors=k)\n",
    "knn.fit(X, y)\n",
    "\n",
    "# New tissue paper attributes\n",
    "new_tissue = np.array([[3, 7]])\n",
    "\n",
    "# Predict the classification\n",
    "prediction = knn.predict(new_tissue)\n",
    "\n",
    "# Output the prediction\n",
    "print(f\"The predicted classification for the new tissue paper (X1=3, X2=7) is: {prediction[0]}\")\n"
   ]
  },
  {
   "cell_type": "code",
   "execution_count": 8,
   "id": "a3a14d6a-177a-400d-9f88-5626e00d1da3",
   "metadata": {},
   "outputs": [
    {
     "name": "stdout",
     "output_type": "stream",
     "text": [
      "The predicted classification for the new tissue paper (X1=3, X2=7) is: good\n"
     ]
    }
   ],
   "source": [
    "# Lab 3 task 2.2\n",
    "import numpy as np\n",
    "import pandas as pd\n",
    "\n",
    "# Create the training dataset\n",
    "data = {\n",
    "    'Acid Durability (X1)': [7, 7, 3, 1],\n",
    "    'Strength (X2)': [7, 4, 4, 4],\n",
    "    'Classification': ['bad', 'bad', 'good', 'good']\n",
    "}\n",
    "\n",
    "# Convert to DataFrame\n",
    "df = pd.DataFrame(data)\n",
    "\n",
    "# New tissue paper attributes\n",
    "new_tissue = np.array([3, 7])\n",
    "\n",
    "# Calculate distances\n",
    "distances = []\n",
    "for index, row in df.iterrows():\n",
    "    distance = np.sqrt((row['Acid Durability (X1)'] - new_tissue[0])**2 +\n",
    "                       (row['Strength (X2)'] - new_tissue[1])**2)\n",
    "    distances.append((distance, row['Classification']))\n",
    "\n",
    "# Sort distances\n",
    "distances.sort(key=lambda x: x[0])\n",
    "\n",
    "# Get the K nearest neighbors\n",
    "K = 3\n",
    "nearest_neighbors = distances[:K]\n",
    "\n",
    "# Gather the classes of the nearest neighbors\n",
    "classes = [neighbor[1] for neighbor in nearest_neighbors]\n",
    "\n",
    "# Determine the majority class\n",
    "prediction = max(set(classes), key=classes.count)\n",
    "\n",
    "# Output the prediction\n",
    "print(f\"The predicted classification for the new tissue paper (X1=3, X2=7) is: {prediction}\")\n"
   ]
  },
  {
   "cell_type": "code",
   "execution_count": null,
   "id": "35261f58-6110-4adf-9c09-154445ea47da",
   "metadata": {},
   "outputs": [],
   "source": []
  }
 ],
 "metadata": {
  "kernelspec": {
   "display_name": "Python 3 (ipykernel)",
   "language": "python",
   "name": "python3"
  },
  "language_info": {
   "codemirror_mode": {
    "name": "ipython",
    "version": 3
   },
   "file_extension": ".py",
   "mimetype": "text/x-python",
   "name": "python",
   "nbconvert_exporter": "python",
   "pygments_lexer": "ipython3",
   "version": "3.11.7"
  }
 },
 "nbformat": 4,
 "nbformat_minor": 5
}
