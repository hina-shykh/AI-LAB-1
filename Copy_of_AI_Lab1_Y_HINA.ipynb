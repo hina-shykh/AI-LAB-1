{
  "nbformat": 4,
  "nbformat_minor": 0,
  "metadata": {
    "colab": {
      "provenance": [],
      "toc_visible": true
    },
    "kernelspec": {
      "name": "python3",
      "display_name": "Python 3"
    },
    "language_info": {
      "name": "python"
    }
  },
  "cells": [
    {
      "cell_type": "code",
      "execution_count": null,
      "metadata": {
        "id": "IZwquop-xi1b"
      },
      "outputs": [],
      "source": [
        "# LAB 1 YAGOME HINA"
      ]
    },
    {
      "cell_type": "markdown",
      "source": [
        "# LAB 1 YAGOME HINA\n"
      ],
      "metadata": {
        "id": "8UDo_cdKZ3pl"
      }
    },
    {
      "cell_type": "code",
      "source": [
        "# Function to perform the calculations AI lab task1\n",
        "def process_number():\n",
        "    # Taking user input and converting it to an integer\n",
        "    num = int(input(\"Enter a number: \"))\n",
        "\n",
        "    # Performing the operations as per your instructions\n",
        "    result = ((num + 3) * 2) - 4 + 3\n",
        "\n",
        "    # Displaying the result\n",
        "    print(f\"The final result after performing the operations is: {result}\")\n",
        "\n",
        "# Call the function\n",
        "process_number()\n"
      ],
      "metadata": {
        "colab": {
          "base_uri": "https://localhost:8080/"
        },
        "id": "T9nEmyc5ZrZT",
        "outputId": "d50044aa-501e-47c1-8bbd-7887b152c3fb"
      },
      "execution_count": null,
      "outputs": [
        {
          "output_type": "stream",
          "name": "stdout",
          "text": [
            "Enter a number: 12\n",
            "The final result after performing the operations is: 29\n"
          ]
        }
      ]
    },
    {
      "cell_type": "code",
      "source": [
        "# LAB 1 TASK 2 'Function to convert Celsius to Fahrenheit\n",
        "def celsius_to_fahrenheit():\n",
        "    # Taking user input in Celsius\n",
        "    celsius = float(input(\"Enter temperature in Celsius: \"))\n",
        "\n",
        "    # Converting Celsius to Fahrenheit\n",
        "    fahrenheit = (celsius * 1.8) + 32\n",
        "\n",
        "    # Displaying the result\n",
        "    print(f\"{celsius}°C is equal to {fahrenheit}°F.\")\n",
        "\n",
        "# Call the function\n",
        "celsius_to_fahrenheit()\n"
      ],
      "metadata": {
        "colab": {
          "base_uri": "https://localhost:8080/"
        },
        "id": "Gr0RHB1pdnjR",
        "outputId": "063c57eb-aa80-4a1b-f19e-33158609628d"
      },
      "execution_count": null,
      "outputs": [
        {
          "output_type": "stream",
          "name": "stdout",
          "text": [
            "Enter temperature in Celsius: 68\n",
            "68.0°C is equal to 154.4°F.\n"
          ]
        }
      ]
    },
    {
      "cell_type": "code",
      "source": [
        "import math  # AI LAB1 Task 3 Importing the math library to access the value of π\n",
        "\n",
        "# Function to calculate the area of a circle\n",
        "def calculate_area_of_circle():\n",
        "    # Taking user input for the radius\n",
        "    radius = float(input(\"Enter the radius of the circle: \"))\n",
        "\n",
        "    # Calculating the area using the formula A = πr²\n",
        "    area = math.pi * radius ** 2\n",
        "\n",
        "    # Displaying the result\n",
        "    print(f\"The area of the circle with radius {radius} is {area:.2f}.\")\n",
        "\n",
        "# Call the function\n",
        "calculate_area_of_circle()\n"
      ],
      "metadata": {
        "colab": {
          "base_uri": "https://localhost:8080/"
        },
        "id": "rwErP7ZXeNmZ",
        "outputId": "2f002d0f-8fd0-479f-b7f4-71cb6061d5a3"
      },
      "execution_count": null,
      "outputs": [
        {
          "output_type": "stream",
          "name": "stdout",
          "text": [
            "Enter the radius of the circle: 12\n",
            "The area of the circle with radius 12.0 is 452.39.\n"
          ]
        }
      ]
    },
    {
      "cell_type": "code",
      "source": [
        "#  AI LAB 1 Task 4 Function to display favorite color in a specific format\n",
        "def favorite_color_pattern():\n",
        "    # Taking user input for favorite color\n",
        "    color = input(\"Enter your favorite color: \")\n",
        "\n",
        "    # Creating the required pattern\n",
        "    print(color * 10)  # Prints the color 10 times without spaces\n",
        "    print(color + '\\t' + color)  # Prints the color twice with a tab space\n",
        "    print(color * 10)  # Prints the color 10 times again without spaces\n",
        "\n",
        "# Call the function\n",
        "favorite_color_pattern()\n"
      ],
      "metadata": {
        "colab": {
          "base_uri": "https://localhost:8080/"
        },
        "id": "WZ70XiQphKbE",
        "outputId": "c68cce3f-59df-44b7-c446-3a71f6fa25f1"
      },
      "execution_count": null,
      "outputs": [
        {
          "output_type": "stream",
          "name": "stdout",
          "text": [
            "Enter your favorite color: blue\n",
            "blueblueblueblueblueblueblueblueblueblue\n",
            "blue\tblue\n",
            "blueblueblueblueblueblueblueblueblueblue\n"
          ]
        }
      ]
    },
    {
      "cell_type": "code",
      "source": [
        "#  AI LAB1 Task 3 Store a person's name with leading and trailing whitespace, tabs, and newlines\n",
        "name = \"\\t\\n  Yagome Hina  \\n\\t\"\n",
        "\n",
        "# Print the name with whitespace characters\n",
        "print(\"Original name with whitespace:\")\n",
        "print(repr(name))  # Using repr to show the exact whitespace\n",
        "\n",
        "# Print the name using lstrip() to remove leading whitespace\n",
        "print(\"\\nName after lstrip() (leading spaces removed):\")\n",
        "print(repr(name.lstrip()))\n",
        "\n",
        "# Print the name using rstrip() to remove trailing whitespace\n",
        "print(\"\\nName after rstrip() (trailing spaces removed):\")\n",
        "print(repr(name.rstrip()))\n",
        "\n",
        "# Print the name using strip() to remove all leading and trailing whitespace\n",
        "print(\"\\nName after strip() (leading and trailing spaces removed):\")\n",
        "print(repr(name.strip()))\n"
      ],
      "metadata": {
        "colab": {
          "base_uri": "https://localhost:8080/"
        },
        "id": "iri1UBuYimy2",
        "outputId": "994329c5-181b-499f-9295-08b71e83d64b"
      },
      "execution_count": null,
      "outputs": [
        {
          "output_type": "stream",
          "name": "stdout",
          "text": [
            "Original name with whitespace:\n",
            "'\\t\\n  Yagome Hina  \\n\\t'\n",
            "\n",
            "Name after lstrip() (leading spaces removed):\n",
            "'Yagome Hina  \\n\\t'\n",
            "\n",
            "Name after rstrip() (trailing spaces removed):\n",
            "'\\t\\n  Yagome Hina'\n",
            "\n",
            "Name after strip() (leading and trailing spaces removed):\n",
            "'Yagome Hina'\n"
          ]
        }
      ]
    },
    {
      "cell_type": "code",
      "source": [
        "# AI LAB1 Task 6 Function to create multiplication table\n",
        "def multiplication_table():\n",
        "    # Taking user input for the number\n",
        "    num = int(input(\"Enter a number to generate its multiplication table: \"))\n",
        "\n",
        "    # Generating multiplication table from 1 to 10\n",
        "    print(f\"Multiplication Table for {num}:\")\n",
        "    for i in range(1, 11):\n",
        "        print(f\"{num} x {i} = {num * i}\")\n",
        "\n",
        "# Call the function\n",
        "multiplication_table()\n"
      ],
      "metadata": {
        "colab": {
          "base_uri": "https://localhost:8080/"
        },
        "id": "rJhX5b2CkfDi",
        "outputId": "788a459c-c6ea-4653-817a-8e3eebd77bc2"
      },
      "execution_count": null,
      "outputs": [
        {
          "output_type": "stream",
          "name": "stdout",
          "text": [
            "Enter a number to generate its multiplication table: 8\n",
            "Multiplication Table for 8:\n",
            "8 x 1 = 8\n",
            "8 x 2 = 16\n",
            "8 x 3 = 24\n",
            "8 x 4 = 32\n",
            "8 x 5 = 40\n",
            "8 x 6 = 48\n",
            "8 x 7 = 56\n",
            "8 x 8 = 64\n",
            "8 x 9 = 72\n",
            "8 x 10 = 80\n"
          ]
        }
      ]
    },
    {
      "cell_type": "code",
      "source": [
        "#  AI LAB 1 Task 7 Function to describe a city and its country\n",
        "def describe_city(city, country=\"Pakistan\"):\n",
        "    print(f\"{city} is in {country}.\")\n",
        "\n",
        "# Calling the function for three different cities\n",
        "describe_city(\"Islamabad\")\n",
        "describe_city(\"Lahore\")\n",
        "describe_city(\"Tokyo\", \"Japan\")\n"
      ],
      "metadata": {
        "colab": {
          "base_uri": "https://localhost:8080/"
        },
        "id": "_Ha-MEyQkn6i",
        "outputId": "c1a2da31-410d-4882-9b94-cbd0e84d7597"
      },
      "execution_count": null,
      "outputs": [
        {
          "output_type": "stream",
          "name": "stdout",
          "text": [
            "Islamabad is in Pakistan.\n",
            "Lahore is in Pakistan.\n",
            "Tokyo is in Japan.\n"
          ]
        }
      ]
    },
    {
      "cell_type": "code",
      "source": [
        "# AI LAB1 Task 8 Function to return the absolute value of a number\n",
        "def absolute_num(num):\n",
        "    if num < 0:\n",
        "        return -num  # Convert negative to positive\n",
        "    else:\n",
        "        return num   # Return positive as is\n",
        "\n",
        "# Test the function\n",
        "number = int(input(\"Enter a number: \"))\n",
        "print(f\"The absolute value of {number} is {absolute_num(number)}.\")\n"
      ],
      "metadata": {
        "colab": {
          "base_uri": "https://localhost:8080/"
        },
        "id": "D6CIf9o-mhjS",
        "outputId": "8004123e-3271-48f4-b2b2-e39702461f22"
      },
      "execution_count": null,
      "outputs": [
        {
          "output_type": "stream",
          "name": "stdout",
          "text": [
            "Enter a number: -28\n",
            "The absolute value of -28 is 28.\n"
          ]
        }
      ]
    },
    {
      "cell_type": "code",
      "source": [
        "#  AI LAB 1 Task 9 Function to check if the alphabet is a vowel or consonant\n",
        "def check_vowel_or_consonant():\n",
        "    # Taking user input and converting it to lowercase\n",
        "    alphabet = input(\"Enter an alphabet: \").lower()\n",
        "\n",
        "    # Check if input is a single alphabet letter\n",
        "    if len(alphabet) != 1 or not alphabet.isalpha():\n",
        "        print(\"Please enter a single alphabet letter.\")\n",
        "    else:\n",
        "        # Vowel check\n",
        "        if alphabet in 'aeiou':\n",
        "            print(f\"{alphabet} is a vowel.\")\n",
        "        else:\n",
        "            print(f\"{alphabet} is a consonant.\")\n",
        "\n",
        "# Call the function\n",
        "check_vowel_or_consonant()\n"
      ],
      "metadata": {
        "colab": {
          "base_uri": "https://localhost:8080/"
        },
        "id": "vH3ZEkc0oRL4",
        "outputId": "034df345-e4cb-4f26-ddb1-63b230b08cb0"
      },
      "execution_count": null,
      "outputs": [
        {
          "output_type": "stream",
          "name": "stdout",
          "text": [
            "Enter an alphabet: H\n",
            "h is a consonant.\n"
          ]
        }
      ]
    },
    {
      "cell_type": "code",
      "source": [
        "#  AI LAB1 Task 10 Function to check if a number is prime\n",
        "def is_prime():\n",
        "    # Taking user input and converting it to an integer\n",
        "    num = int(input(\"Enter a number: \"))\n",
        "\n",
        "    # Prime numbers are greater than 1\n",
        "    if num <= 1:\n",
        "        print(f\"{num} is not a prime number.\")\n",
        "    else:\n",
        "        # Check for factors\n",
        "        for i in range(2, int(num ** 0.5) + 1):\n",
        "            if num % i == 0:\n",
        "                print(f\"{num} is not a prime number.\")\n",
        "                break\n",
        "        else:\n",
        "            print(f\"{num} is a prime number.\")\n",
        "\n",
        "# Call the function\n",
        "is_prime()\n"
      ],
      "metadata": {
        "colab": {
          "base_uri": "https://localhost:8080/"
        },
        "id": "kXsFfpg-sGmp",
        "outputId": "3fac3065-2347-4d50-ab56-e5c9f4157181"
      },
      "execution_count": null,
      "outputs": [
        {
          "output_type": "stream",
          "name": "stdout",
          "text": [
            "Enter a number: 5\n",
            "5 is a prime number.\n"
          ]
        }
      ]
    },
    {
      "cell_type": "code",
      "source": [
        "#  AI LAB 1 Task 11 Function to print numbers from 0 to 6 except 3 and 6\n",
        "def print_numbers():\n",
        "    for num in range(7):  # Loop through numbers 0 to 6\n",
        "        if num == 3 or num == 6:\n",
        "            continue  # Skip the number 3 and 6\n",
        "        print(num)\n",
        "\n",
        "# Call the function\n",
        "print_numbers()\n"
      ],
      "metadata": {
        "colab": {
          "base_uri": "https://localhost:8080/"
        },
        "id": "vROON9SStChq",
        "outputId": "9952ab31-49e4-4543-eb77-91be642f94f4"
      },
      "execution_count": null,
      "outputs": [
        {
          "output_type": "stream",
          "name": "stdout",
          "text": [
            "0\n",
            "1\n",
            "2\n",
            "4\n",
            "5\n"
          ]
        }
      ]
    },
    {
      "cell_type": "code",
      "source": [
        "# AI LAB 1 Task 12 Function to construct the pattern\n",
        "def print_pattern():\n",
        "    # Outer loop for rows (1 to 5)\n",
        "    for i in range(1, 6):\n",
        "        # Inner loop for printing the number 'i' i times\n",
        "        for j in range(i):\n",
        "            print(i, end=\" \")\n",
        "        print()  # Move to the next line after each row\n",
        "\n",
        "# Call the function\n",
        "print_pattern()\n"
      ],
      "metadata": {
        "colab": {
          "base_uri": "https://localhost:8080/"
        },
        "id": "_bS1YaeftqSW",
        "outputId": "caf0b886-2c6e-44cc-ccde-92d6d85c9c26"
      },
      "execution_count": null,
      "outputs": [
        {
          "output_type": "stream",
          "name": "stdout",
          "text": [
            "1 \n",
            "2 2 \n",
            "3 3 3 \n",
            "4 4 4 4 \n",
            "5 5 5 5 5 \n"
          ]
        }
      ]
    },
    {
      "cell_type": "code",
      "source": [
        "# AI LAB1 TASK 13 Function to determine a person's stage of life\n",
        "def determine_stage_of_life(age):\n",
        "    if age < 2:\n",
        "        print(\"The person is a baby.\")\n",
        "    elif 2 <= age < 4:\n",
        "        print(\"The person is a toddler.\")\n",
        "    elif 4 <= age < 13:\n",
        "        print(\"The person is a kid.\")\n",
        "    elif 13 <= age < 20:\n",
        "        print(\"The person is a teenager.\")\n",
        "    elif 20 <= age < 65:\n",
        "        print(\"The person is an adult.\")\n",
        "    else:\n",
        "        print(\"The person is an elder.\")\n",
        "\n",
        "# Set the age and call the function\n",
        "age = int(input(\"Enter the age of the person: \"))\n",
        "determine_stage_of_life(age)\n"
      ],
      "metadata": {
        "colab": {
          "base_uri": "https://localhost:8080/"
        },
        "id": "6HpPa-EIugfc",
        "outputId": "19692b91-7996-4501-cb37-833d9a1c0ead"
      },
      "execution_count": null,
      "outputs": [
        {
          "output_type": "stream",
          "name": "stdout",
          "text": [
            "Enter the age of the person: 23\n",
            "The person is an adult.\n"
          ]
        }
      ]
    }
  ]
}