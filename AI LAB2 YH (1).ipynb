{
 "cells": [
  {
   "cell_type": "code",
   "execution_count": 1,
   "id": "fac6b7da-1c72-4fe9-8c28-c46af9f16024",
   "metadata": {},
   "outputs": [
    {
     "name": "stdout",
     "output_type": "stream",
     "text": [
      "        Math  Science  English  Computer\n",
      "Ali       85       78       90        88\n",
      "Amir      92       85       79        95\n",
      "Kamran    70       80       88        85\n",
      "Samia     95       92       91        89\n",
      "Hina      80       75       82        90\n"
     ]
    }
   ],
   "source": [
    "import pandas as pd\n",
    "\n",
    "#  AI LAB 2 TASK 2 Define the index values (names) and subject names\n",
    "index_values = ['Ali', 'Amir', 'Kamran', 'Samia', 'Hina']\n",
    "subject_names = ['Math', 'Science', 'English', 'Computer']\n",
    "# Generate some example data for the DataFrame\n",
    "data = [\n",
    "    [85, 78, 90, 88], \n",
    "    [92, 85, 79, 95], \n",
    "    [70, 80, 88, 85], \n",
    "    [95, 92, 91, 89],  \n",
    "    [80, 75, 82, 90]   \n",
    "]\n",
    "# Create the DataFrame\n",
    "df = pd.DataFrame(data, index=index_values, columns=subject_names)\n",
    "# Display the DataFrame\n",
    "print(df)"
   ]
  },
  {
   "cell_type": "code",
   "execution_count": 10,
   "id": "1dc55f83-2ec2-4e6c-8895-e8f6850c11eb",
   "metadata": {},
   "outputs": [
    {
     "name": "stdout",
     "output_type": "stream",
     "text": [
      "Sheet 1:\n",
      "     Name  Score\n",
      "0     Ali     98\n",
      "1    Amir     75\n",
      "2  Kamran     50\n",
      "3    Sara     82\n",
      "4    Zara     97\n",
      "\n",
      "Sheet 2:\n",
      "     Subject  Credits\n",
      "0       Math        4\n",
      "1    Physics        3\n",
      "2  Chemistry        4\n",
      "3    Biology        4\n",
      "4    English        2\n"
     ]
    }
   ],
   "source": [
    "import pandas as pd\n",
    "import numpy as np\n",
    "\n",
    "# AI LAB 2 TASK 1 Create random data for two sheets\n",
    "data_sheet1 = {\n",
    "    'Name': ['Ali', 'Amir', 'Kamran', 'Sara', 'Zara'],\n",
    "    'Score': np.random.randint(50, 100, size=5)\n",
    "}\n",
    "\n",
    "data_sheet2 = {\n",
    "    'Subject': ['Math', 'Physics', 'Chemistry', 'Biology', 'English'],\n",
    "    'Credits': np.random.randint(2, 5, size=5)\n",
    "}\n",
    "\n",
    "# Create DataFrames to simulate sheets\n",
    "sheet1 = pd.DataFrame(data_sheet1)\n",
    "sheet2 = pd.DataFrame(data_sheet2)\n",
    "\n",
    "# Print both \"sheets\"\n",
    "print(\"Sheet 1:\")\n",
    "print(sheet1)\n",
    "print(\"\\nSheet 2:\")\n",
    "print(sheet2)"
   ]
  },
  {
   "cell_type": "code",
   "execution_count": 14,
   "id": "423236d9-28e6-4f70-b31f-5464d5a75519",
   "metadata": {},
   "outputs": [
    {
     "name": "stdout",
     "output_type": "stream",
     "text": [
      "          A         B\n",
      "0  0.864879  0.344959\n",
      "1  0.572730  0.844488\n",
      "2  0.784430  0.946649\n",
      "3  0.134358  0.328680\n",
      "4  0.606290  0.213912\n",
      "5  0.150182  0.097402\n",
      "6  0.246718  0.993901\n",
      "7  0.878599  0.950046\n",
      "8  0.886787  0.550819\n",
      "9  0.090257  0.222981\n"
     ]
    }
   ],
   "source": [
    "import pandas as pd\n",
    "import numpy as np\n",
    "\n",
    "# AI LAB 2 TASK 4 Create a sample DataFrame\n",
    "df = pd.DataFrame({\n",
    "    'A': np.random.rand(10),\n",
    "    'B': np.random.rand(10),\n",
    "    'C': np.random.rand(10)\n",
    "})\n",
    "\n",
    "# Print the first two columns\n",
    "print(df.iloc[:, :2])"
   ]
  },
  {
   "cell_type": "code",
   "execution_count": 3,
   "id": "d1f44ee7-9af6-40f8-980c-2434e58b56a8",
   "metadata": {},
   "outputs": [
    {
     "name": "stdout",
     "output_type": "stream",
     "text": [
      "         Name  Age  Gender\n",
      "0  Employee_1   50    None\n",
      "1  Employee_2   22    None\n",
      "2  Employee_3   25  Female\n",
      "3  Employee_4   53    Male\n",
      "4  Employee_5   34  Female\n"
     ]
    }
   ],
   "source": [
    "import pandas as pd\n",
    "import random\n",
    "\n",
    "# AI LAB 2 TASK 5 Define the number of employees\n",
    "num_employees = 100\n",
    "\n",
    "# Generate dummy data\n",
    "names = [f'Employee_{i}' for i in range(1, num_employees + 1)]\n",
    "ages = [random.randint(20, 60) for _ in range(num_employees)]\n",
    "genders = [random.choice(['Male', 'Female', None]) for _ in range(num_employees)]  # None represents missing values\n",
    "\n",
    "# Create a DataFrame\n",
    "data = {\n",
    "    'Name': names,\n",
    "    'Age': ages,\n",
    "    'Gender': genders\n",
    "}\n",
    "df = pd.DataFrame(data)\n",
    "\n",
    "# Save the DataFrame to a CSV file\n",
    "csv_file_path = 'employees.csv'  # Specify your desired file path\n",
    "df.to_csv(csv_file_path, index=False)\n",
    "\n",
    "# Display the first few rows of the DataFrame\n",
    "print(df.head())\n"
   ]
  },
  {
   "cell_type": "code",
   "execution_count": null,
   "id": "5624d7cd-2c92-45df-9fba-30b9a542aad1",
   "metadata": {},
   "outputs": [],
   "source": [
    "import pandas as pd\n",
    "import numpy as np\n",
    "\n",
    "# Create a DataFrame with dummy employee data for 10 employees\n",
    "data = {\n",
    "    'EmployeeID': range(1, 11),  # 10 employees\n",
    "    'Name': [f'Employee {i}' for i in range(1, 11)],\n",
    "    'Age': np.random.randint(22, 60, size=10),  # Random ages between 22 and 60\n",
    "    'Gender': [np.nan if i % 5 == 0 else np.random.choice(['Male', 'Female']) for i in range(10)]  # Some null values\n",
    "}\n",
    "\n",
    "df = pd.DataFrame(data)\n",
    "\n",
    "# Save the DataFrame to a CSV file\n",
    "df.to_csv('employees.csv', index=False)\n",
    "\n",
    "# Display the DataFrame\n",
    "print(df)\n"
   ]
  },
  {
   "cell_type": "code",
   "execution_count": 17,
   "id": "b3d5712b-4025-4636-b398-7538617ba0ba",
   "metadata": {},
   "outputs": [
    {
     "name": "stdout",
     "output_type": "stream",
     "text": [
      "          A         B         C\n",
      "0  0.773484  0.464484  0.533945\n",
      "1  0.402749  0.261501  0.336103\n"
     ]
    }
   ],
   "source": [
    "import pandas as pd\n",
    "import numpy as np\n",
    "\n",
    "# Create a sample DataFrame\n",
    "df = pd.DataFrame({\n",
    "    'A': np.random.rand(10),\n",
    "    'B': np.random.rand(10),\n",
    "    'C': np.random.rand(10)\n",
    "})\n",
    "\n",
    "# Skip the first two rows and print\n",
    "print(df.iloc[2:])"
   ]
  },
  {
   "cell_type": "code",
   "execution_count": null,
   "id": "b2f16676-058e-458a-8308-8c5ccde872ff",
   "metadata": {},
   "outputs": [],
   "source": []
  },
  {
   "cell_type": "code",
   "execution_count": 5,
   "id": "0621286c-698b-4b92-bd0e-e7b617073c94",
   "metadata": {},
   "outputs": [
    {
     "name": "stdout",
     "output_type": "stream",
     "text": [
      "Original DataFrame:\n",
      "   EmployeeID         Name  Age  Salary\n",
      "0           1   Employee 1   51   30469\n",
      "1           2   Employee 2   51   34493\n",
      "2           3   Employee 3   58   31997\n",
      "3           4   Employee 4   52   37733\n",
      "4           5   Employee 5   58   56465\n",
      "5           6   Employee 6   49   47984\n",
      "6           7   Employee 7   49   37508\n",
      "7           8   Employee 8   30   67470\n",
      "8           9   Employee 9   47   74127\n",
      "9          10  Employee 10   55   74054\n",
      "\n",
      "Normalized DataFrame:\n",
      "   Age  Age_Normalized  Salary  Salary_Normalized\n",
      "0   51        0.750000   30469           0.000000\n",
      "1   51        0.750000   34493           0.092171\n",
      "2   58        1.000000   31997           0.034999\n",
      "3   52        0.785714   37733           0.166384\n",
      "4   58        1.000000   56465           0.595446\n",
      "5   49        0.678571   47984           0.401186\n",
      "6   49        0.678571   37508           0.161230\n",
      "7   30        0.000000   67470           0.847519\n",
      "8   47        0.607143   74127           1.000000\n",
      "9   55        0.892857   74054           0.998328\n",
      "\n",
      "Verification of Normalization:\n",
      "Employee Employee 1 - Age: 0.7500, Salary: 0.0000\n",
      "Employee Employee 2 - Age: 0.7500, Salary: 0.0922\n",
      "Employee Employee 3 - Age: 1.0000, Salary: 0.0350\n",
      "Employee Employee 4 - Age: 0.7857, Salary: 0.1664\n",
      "Employee Employee 5 - Age: 1.0000, Salary: 0.5954\n",
      "Employee Employee 6 - Age: 0.6786, Salary: 0.4012\n",
      "Employee Employee 7 - Age: 0.6786, Salary: 0.1612\n",
      "Employee Employee 8 - Age: 0.0000, Salary: 0.8475\n",
      "Employee Employee 9 - Age: 0.6071, Salary: 1.0000\n",
      "Employee Employee 10 - Age: 0.8929, Salary: 0.9983\n"
     ]
    }
   ],
   "source": [
    "import pandas as pd\n",
    "import numpy as np\n",
    "\n",
    "# Create a DataFrame with dummy employee data\n",
    "data = {\n",
    "    'EmployeeID': range(1, 11),\n",
    "    'Name': [f'Employee {i}' for i in range(1, 11)],\n",
    "    'Age': np.random.randint(22, 60, size=10),  # Random ages between 22 and 60\n",
    "    'Salary': np.random.randint(30000, 80000, size=10)  # Random salaries between 30,000 and 80,000\n",
    "}\n",
    "\n",
    "df = pd.DataFrame(data)\n",
    "\n",
    "# Display the original data\n",
    "print(\"Original DataFrame:\")\n",
    "print(df)\n",
    "\n",
    "# Min-Max Normalization function\n",
    "def min_max_normalize(column):\n",
    "    return (column - column.min()) / (column.max() - column.min())\n",
    "\n",
    "# Apply Min-Max normalization to 'Age' and 'Salary'\n",
    "df['Age_Normalized'] = min_max_normalize(df['Age'])\n",
    "df['Salary_Normalized'] = min_max_normalize(df['Salary'])\n",
    "\n",
    "# Display the normalized DataFrame\n",
    "print(\"\\nNormalized DataFrame:\")\n",
    "print(df[['Age', 'Age_Normalized', 'Salary', 'Salary_Normalized']])\n",
    "\n",
    "# Verification using the formula\n",
    "print(\"\\nVerification of Normalization:\")\n",
    "for index, row in df.iterrows():\n",
    "    age_normalized = (row['Age'] - df['Age'].min()) / (df['Age'].max() - df['Age'].min())\n",
    "    salary_normalized = (row['Salary'] - df['Salary'].min()) / (df['Salary'].max() - df['Salary'].min())\n",
    "    print(f\"Employee {row['Name']} - Age: {age_normalized:.4f}, Salary: {salary_normalized:.4f}\")\n"
   ]
  },
  {
   "cell_type": "code",
   "execution_count": 6,
   "id": "e0bb12e4-b987-4cd8-a136-a0d43a690943",
   "metadata": {},
   "outputs": [
    {
     "name": "stdout",
     "output_type": "stream",
     "text": [
      "Original DataFrame:\n",
      "   Age  Salary\n",
      "0   25   42000\n",
      "1   36   50000\n",
      "2   30   45000\n",
      "3   27   43000\n",
      "4   38   51000\n",
      "5   42   62000\n",
      "\n",
      "Standardized DataFrame:\n",
      "   Age  Age_Standardized  Salary  Salary_Standardized\n",
      "0   25         -1.195229   42000            -0.921686\n",
      "1   36          0.448211   50000             0.157361\n",
      "2   30         -0.448211   45000            -0.517043\n",
      "3   27         -0.896421   43000            -0.786805\n",
      "4   38          0.747018   51000             0.292242\n",
      "5   42          1.344632   62000             1.775931\n",
      "\n",
      "Verification of Standardization:\n",
      "Row 1 - Age: -1.1952, Salary: -0.9217\n",
      "Row 2 - Age: 0.4482, Salary: 0.1574\n",
      "Row 3 - Age: -0.4482, Salary: -0.5170\n",
      "Row 4 - Age: -0.8964, Salary: -0.7868\n",
      "Row 5 - Age: 0.7470, Salary: 0.2922\n",
      "Row 6 - Age: 1.3446, Salary: 1.7759\n"
     ]
    }
   ],
   "source": [
    "import pandas as pd\n",
    "\n",
    "# AI LAB2 TASK 7\n",
    "data = {\n",
    "    'Age': [25, 36, 30, 27, 38, 42],\n",
    "    'Salary': [42000, 50000, 45000, 43000, 51000, 62000]\n",
    "}\n",
    "\n",
    "df = pd.DataFrame(data)\n",
    "\n",
    "# Display the original DataFrame\n",
    "print(\"Original DataFrame:\")\n",
    "print(df)\n",
    "\n",
    "# Standardization function\n",
    "def standardize(column):\n",
    "    mean = column.mean()\n",
    "    std_dev = column.std()\n",
    "    return (column - mean) / std_dev\n",
    "\n",
    "# Apply standardization to 'Age' and 'Salary'\n",
    "df['Age_Standardized'] = standardize(df['Age'])\n",
    "df['Salary_Standardized'] = standardize(df['Salary'])\n",
    "\n",
    "# Display the standardized DataFrame\n",
    "print(\"\\nStandardized DataFrame:\")\n",
    "print(df[['Age', 'Age_Standardized', 'Salary', 'Salary_Standardized']])\n",
    "\n",
    "# Verification using the formula\n",
    "print(\"\\nVerification of Standardization:\")\n",
    "for index, row in df.iterrows():\n",
    "    age_standardized = (row['Age'] - df['Age'].mean()) / df['Age'].std()\n",
    "    salary_standardized = (row['Salary'] - df['Salary'].mean()) / df['Salary'].std()\n",
    "    print(f\"Row {index + 1} - Age: {age_standardized:.4f}, Salary: {salary_standardized:.4f}\")\n"
   ]
  },
  {
   "cell_type": "code",
   "execution_count": 7,
   "id": "6228d8f8-19b3-42bc-a1b2-aed57b87283a",
   "metadata": {
    "scrolled": true
   },
   "outputs": [
    {
     "name": "stdout",
     "output_type": "stream",
     "text": [
      "Original DataFrame:\n",
      "   First Score  Second Score  Third Score\n",
      "0        100.0          30.0          NaN\n",
      "1         90.0          45.0         40.0\n",
      "2          NaN          56.0         80.0\n",
      "3         95.0           NaN         98.0\n",
      "\n",
      "DataFrame after Backward Interpolation:\n",
      "   First Score  Second Score  Third Score\n",
      "0        100.0          30.0         40.0\n",
      "1         90.0          45.0         40.0\n",
      "2         95.0          56.0         80.0\n",
      "3         95.0           NaN         98.0\n"
     ]
    },
    {
     "name": "stderr",
     "output_type": "stream",
     "text": [
      "C:\\Users\\SED\\AppData\\Local\\Temp\\ipykernel_7352\\2966302086.py:19: FutureWarning: DataFrame.interpolate with method=bfill is deprecated and will raise in a future version. Use obj.ffill() or obj.bfill() instead.\n",
      "  df_interpolated = df.interpolate(method='bfill')\n"
     ]
    }
   ],
   "source": [
    "import pandas as pd\n",
    "import numpy as np\n",
    "\n",
    "#AI LAB 2 TASK 8\n",
    "data = {\n",
    "    'First Score': [100, 90, np.nan, 95],\n",
    "    'Second Score': [30, 45, 56, np.nan],\n",
    "    'Third Score': [np.nan, 40, 80, 98]\n",
    "}\n",
    "\n",
    "# Create a DataFrame from the dictionary\n",
    "df = pd.DataFrame(data)\n",
    "\n",
    "# Display the original DataFrame\n",
    "print(\"Original DataFrame:\")\n",
    "print(df)\n",
    "\n",
    "# Interpolate missing values using backward interpolation\n",
    "df_interpolated = df.interpolate(method='bfill')\n",
    "\n",
    "# Display the DataFrame after interpolation\n",
    "print(\"\\nDataFrame after Backward Interpolation:\")\n",
    "print(df_interpolated)\n"
   ]
  },
  {
   "cell_type": "code",
   "execution_count": null,
   "id": "4a8fdfe8-956f-4ded-8861-99f2d43b5d2f",
   "metadata": {},
   "outputs": [],
   "source": []
  }
 ],
 "metadata": {
  "kernelspec": {
   "display_name": "Python 3 (ipykernel)",
   "language": "python",
   "name": "python3"
  },
  "language_info": {
   "codemirror_mode": {
    "name": "ipython",
    "version": 3
   },
   "file_extension": ".py",
   "mimetype": "text/x-python",
   "name": "python",
   "nbconvert_exporter": "python",
   "pygments_lexer": "ipython3",
   "version": "3.11.7"
  }
 },
 "nbformat": 4,
 "nbformat_minor": 5
}
