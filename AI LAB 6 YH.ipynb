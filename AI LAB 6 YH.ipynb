{
 "cells": [
  {
   "cell_type": "markdown",
   "id": "b0db2f6b-874c-4d75-bbb3-1d04d5d3521c",
   "metadata": {},
   "source": [
    "# LAB 6 YH "
   ]
  },
  {
   "cell_type": "code",
   "execution_count": 2,
   "id": "9c6a7ce8-0846-403e-b17a-25e558f2f2c6",
   "metadata": {},
   "outputs": [
    {
     "name": "stdout",
     "output_type": "stream",
     "text": [
      "   income  age\n",
      "0   45795   68\n",
      "1   30860   49\n",
      "2   84886   56\n",
      "3   36265   66\n",
      "4   67194   69\n"
     ]
    }
   ],
   "source": [
    "import pandas as pd\n",
    "import numpy as np\n",
    "\n",
    "# Generate random sample data for the income and age columns\n",
    "np.random.seed(42)\n",
    "\n",
    "# Number of samples\n",
    "num_samples = 100\n",
    "\n",
    "# Generate random 'income' and 'age' data\n",
    "income = np.random.randint(30000, 100000, num_samples)  # Random income between 30k and 100k\n",
    "age = np.random.randint(18, 70, num_samples)  # Random age between 18 and 70\n",
    "\n",
    "# Create DataFrame\n",
    "df = pd.DataFrame({'income': income, 'age': age})\n",
    "\n",
    "# Save DataFrame as CSV\n",
    "df.to_csv('income.csv', index=False)\n",
    "\n",
    "# Show the first few rows of the dataset\n",
    "print(df.head())\n"
   ]
  },
  {
   "cell_type": "code",
   "execution_count": 4,
   "id": "61c7a816-77c8-47d2-9e75-b6369372dfd1",
   "metadata": {},
   "outputs": [
    {
     "name": "stderr",
     "output_type": "stream",
     "text": [
      "C:\\Users\\SED\\anaconda3\\Lib\\site-packages\\sklearn\\cluster\\_kmeans.py:870: FutureWarning: The default value of `n_init` will change from 10 to 'auto' in 1.4. Set the value of `n_init` explicitly to suppress the warning\n",
      "  warnings.warn(\n",
      "C:\\Users\\SED\\anaconda3\\Lib\\site-packages\\sklearn\\cluster\\_kmeans.py:1382: UserWarning: KMeans is known to have a memory leak on Windows with MKL, when there are less chunks than available threads. You can avoid it by setting the environment variable OMP_NUM_THREADS=1.\n",
      "  warnings.warn(\n"
     ]
    },
    {
     "name": "stdout",
     "output_type": "stream",
     "text": [
      "Original Centroids based on KMeans algorithm:\n",
      "[[6.36207188e+04 4.80000000e+01]\n",
      " [3.85517097e+04 4.52903226e+01]\n",
      " [9.04600811e+04 4.21891892e+01]]\n",
      "\n",
      "New Centroids based on mean values of data instances in each cluster:\n",
      "               income        age\n",
      "Cluster                         \n",
      "0        63620.718750  48.000000\n",
      "1        38551.709677  45.290323\n",
      "2        90460.081081  42.189189\n"
     ]
    }
   ],
   "source": [
    "import pandas as pd\n",
    "from sklearn.cluster import KMeans\n",
    "\n",
    "# Load the dataset\n",
    "data = pd.read_csv('income.csv')  # Ensure that income.csv is in the same directory\n",
    "\n",
    "# Select relevant features for clustering\n",
    "X = data[['income', 'age']]  # Adjust this based on your actual columns\n",
    "\n",
    "# Apply K-Means clustering with 3 clusters\n",
    "kmeans = KMeans(n_clusters=3, random_state=42)\n",
    "kmeans.fit(X)\n",
    "\n",
    "# Get the cluster labels and centroids\n",
    "labels = kmeans.labels_\n",
    "centroids = kmeans.cluster_centers_\n",
    "\n",
    "# Add the cluster labels to the dataset\n",
    "data['Cluster'] = labels\n",
    "\n",
    "# Calculate new centroids based on the mean values of each cluster\n",
    "new_centroids = data.groupby('Cluster')[['income', 'age']].mean()\n",
    "\n",
    "# Output the original and new centroids\n",
    "print(\"Original Centroids based on KMeans algorithm:\")\n",
    "print(centroids)\n",
    "\n",
    "print(\"\\nNew Centroids based on mean values of data instances in each cluster:\")\n",
    "print(new_centroids)\n"
   ]
  },
  {
   "cell_type": "code",
   "execution_count": 5,
   "id": "1cfb1d75-e9bb-4763-bbc7-75fa5b5d78b3",
   "metadata": {},
   "outputs": [
    {
     "name": "stdout",
     "output_type": "stream",
     "text": [
      "Final Centroids:\n",
      "Centroid 1: [1.3333333333333333, 4.0, 1.6666666666666667]\n",
      "Centroid 2: [1.4, 1.2, 1.6]\n",
      "\n",
      "Cluster 1 (Points assigned to Centroid 1):\n",
      "OB-1 [1, 4, 1]\n",
      "OB-2 [1, 4, 2]\n",
      "OB-3 [2, 4, 2]\n",
      "\n",
      "Cluster 2 (Points assigned to Centroid 2):\n",
      "OB-1 [1, 2, 2]\n",
      "OB-2 [2, 1, 2]\n",
      "OB-3 [1, 1, 1]\n",
      "OB-4 [1, 1, 2]\n",
      "OB-5 [2, 1, 1]\n"
     ]
    }
   ],
   "source": [
    "# lab 6 TASK 2\n",
    "import numpy as np\n",
    "\n",
    "# Data (Objects with their X, Y, Z coordinates)\n",
    "data = {\n",
    "    'OB-1': [1, 4, 1],\n",
    "    'OB-2': [1, 2, 2],\n",
    "    'OB-3': [1, 4, 2],\n",
    "    'OB-4': [2, 1, 2],\n",
    "    'OB-5': [1, 1, 1],\n",
    "    'OB-6': [2, 4, 2],\n",
    "    'OB-7': [1, 1, 2],\n",
    "    'OB-8': [2, 1, 1]\n",
    "}\n",
    "\n",
    "# Convert data into a list of coordinates\n",
    "coordinates = list(data.values())\n",
    "\n",
    "# Step 1: Initialize centroids randomly (let's choose two points manually)\n",
    "# Initial centroids (we can select points manually for simplicity)\n",
    "centroid_1 = coordinates[0]  # Initial centroid 1 (OB-1)\n",
    "centroid_2 = coordinates[3]  # Initial centroid 2 (OB-4)\n",
    "\n",
    "# Function to calculate Euclidean distance between two points\n",
    "def euclidean_distance(point1, point2):\n",
    "    return np.sqrt(sum((np.array(point1) - np.array(point2)) ** 2))\n",
    "\n",
    "# Function to update the centroid by calculating the mean of points in the cluster\n",
    "def calculate_new_centroid(cluster_points):\n",
    "    return np.mean(cluster_points, axis=0).tolist()\n",
    "\n",
    "# Step 2: Assign objects to the nearest centroid\n",
    "def assign_clusters(centroid_1, centroid_2, coordinates):\n",
    "    clusters = {0: [], 1: []}  # Two clusters (0 and 1)\n",
    "    for i, point in enumerate(coordinates):\n",
    "        dist_to_c1 = euclidean_distance(point, centroid_1)\n",
    "        dist_to_c2 = euclidean_distance(point, centroid_2)\n",
    "        if dist_to_c1 < dist_to_c2:\n",
    "            clusters[0].append(point)\n",
    "        else:\n",
    "            clusters[1].append(point)\n",
    "    return clusters\n",
    "\n",
    "# Step 3: K-Means Clustering (Iterate until convergence)\n",
    "def kmeans(coordinates, centroid_1, centroid_2, max_iterations=100):\n",
    "    for _ in range(max_iterations):\n",
    "        # Step 2: Assign points to clusters\n",
    "        clusters = assign_clusters(centroid_1, centroid_2, coordinates)\n",
    "        \n",
    "        # Step 3: Calculate new centroids\n",
    "        new_centroid_1 = calculate_new_centroid(clusters[0])\n",
    "        new_centroid_2 = calculate_new_centroid(clusters[1])\n",
    "        \n",
    "        # Check for convergence (if centroids don't change)\n",
    "        if new_centroid_1 == centroid_1 and new_centroid_2 == centroid_2:\n",
    "            break\n",
    "        \n",
    "        # Update centroids\n",
    "        centroid_1 = new_centroid_1\n",
    "        centroid_2 = new_centroid_2\n",
    "        \n",
    "    return clusters, centroid_1, centroid_2\n",
    "\n",
    "# Run K-Means algorithm\n",
    "clusters, final_centroid_1, final_centroid_2 = kmeans(coordinates, centroid_1, centroid_2)\n",
    "\n",
    "# Display results\n",
    "print(\"Final Centroids:\")\n",
    "print(\"Centroid 1:\", final_centroid_1)\n",
    "print(\"Centroid 2:\", final_centroid_2)\n",
    "\n",
    "print(\"\\nCluster 1 (Points assigned to Centroid 1):\")\n",
    "for idx in range(len(clusters[0])):\n",
    "    print(\"OB-\" + str(clusters[0].index(clusters[0][idx]) + 1), clusters[0][idx])\n",
    "\n",
    "print(\"\\nCluster 2 (Points assigned to Centroid 2):\")\n",
    "for idx in range(len(clusters[1])):\n",
    "    print(\"OB-\" + str(clusters[1].index(clusters[1][idx]) + 1), clusters[1][idx])\n"
   ]
  },
  {
   "cell_type": "code",
   "execution_count": null,
   "id": "9ccc9cdc-c043-457e-b2a1-de6f082c0904",
   "metadata": {},
   "outputs": [],
   "source": []
  }
 ],
 "metadata": {
  "kernelspec": {
   "display_name": "Python 3 (ipykernel)",
   "language": "python",
   "name": "python3"
  },
  "language_info": {
   "codemirror_mode": {
    "name": "ipython",
    "version": 3
   },
   "file_extension": ".py",
   "mimetype": "text/x-python",
   "name": "python",
   "nbconvert_exporter": "python",
   "pygments_lexer": "ipython3",
   "version": "3.11.7"
  }
 },
 "nbformat": 4,
 "nbformat_minor": 5
}
